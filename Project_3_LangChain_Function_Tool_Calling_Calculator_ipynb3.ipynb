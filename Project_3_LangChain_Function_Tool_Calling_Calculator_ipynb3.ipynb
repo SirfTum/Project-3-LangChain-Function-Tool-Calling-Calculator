{
  "nbformat": 4,
  "nbformat_minor": 0,
  "metadata": {
    "colab": {
      "provenance": [],
      "authorship_tag": "ABX9TyMEUWgpQ9J9Cbm9hJA0qucw",
      "include_colab_link": true
    },
    "kernelspec": {
      "name": "python3",
      "display_name": "Python 3"
    },
    "language_info": {
      "name": "python"
    }
  },
  "cells": [
    {
      "cell_type": "markdown",
      "metadata": {
        "id": "view-in-github",
        "colab_type": "text"
      },
      "source": [
        "<a href=\"https://colab.research.google.com/github/SirfTum/Project-3-LangChain-Function-Tool-Calling-Calculator/blob/main/Project_3_LangChain_Function_Tool_Calling_Calculator_ipynb3.ipynb\" target=\"_parent\"><img src=\"https://colab.research.google.com/assets/colab-badge.svg\" alt=\"Open In Colab\"/></a>"
      ]
    },
    {
      "cell_type": "code",
      "execution_count": null,
      "metadata": {
        "id": "66D2RNoXsmdH",
        "colab": {
          "base_uri": "https://localhost:8080/"
        },
        "outputId": "b8ebe5aa-6124-45ad-db5b-4166be524ad9"
      },
      "outputs": [
        {
          "output_type": "stream",
          "name": "stdout",
          "text": [
            "\u001b[?25l   \u001b[90m━━━━━━━━━━━━━━━━━━━━━━━━━━━━━━━━━━━━━━━━\u001b[0m \u001b[32m0.0/41.5 kB\u001b[0m \u001b[31m?\u001b[0m eta \u001b[36m-:--:--\u001b[0m\r\u001b[2K   \u001b[90m━━━━━━━━━━━━━━━━━━━━━━━━━━━━━━━━━━━━━━━━\u001b[0m \u001b[32m41.5/41.5 kB\u001b[0m \u001b[31m1.5 MB/s\u001b[0m eta \u001b[36m0:00:00\u001b[0m\n",
            "\u001b[?25h\u001b[?25l   \u001b[90m━━━━━━━━━━━━━━━━━━━━━━━━━━━━━━━━━━━━━━━━\u001b[0m \u001b[32m0.0/411.6 kB\u001b[0m \u001b[31m?\u001b[0m eta \u001b[36m-:--:--\u001b[0m\r\u001b[2K   \u001b[91m━━━━━━━━━━━━━━━━━━━━━━━━━━━━━━━━━━━━━━━\u001b[0m\u001b[91m╸\u001b[0m \u001b[32m409.6/411.6 kB\u001b[0m \u001b[31m65.2 MB/s\u001b[0m eta \u001b[36m0:00:01\u001b[0m\r\u001b[2K   \u001b[90m━━━━━━━━━━━━━━━━━━━━━━━━━━━━━━━━━━━━━━━━\u001b[0m \u001b[32m411.6/411.6 kB\u001b[0m \u001b[31m7.5 MB/s\u001b[0m eta \u001b[36m0:00:00\u001b[0m\n",
            "\u001b[?25h"
          ]
        }
      ],
      "source": [
        "!pip install langchain google-generativeai langchain_google_genai -q\n"
      ]
    },
    {
      "cell_type": "code",
      "source": [
        "from google.colab import userdata\n",
        "GOOGLE_API_KEY = userdata.get('GOOGLE_API_KEY')"
      ],
      "metadata": {
        "id": "D_oQAFqQtCn-"
      },
      "execution_count": null,
      "outputs": []
    },
    {
      "cell_type": "code",
      "source": [
        "from langchain_core.tools import tool\n",
        "import requests\n",
        "\n",
        "# we make this function as a wraper\n",
        "\n",
        "@tool\n",
        "# def multiply(a: int, b:int ) -> int:\n",
        "#   \"\"\"Multiply a and b \"\"\"\n",
        "#   print(\"function is called\")\n",
        "#   return a*b\n",
        "def calculator(expression:str) -> float:\n",
        "  \"\"\"Evaluate a mathematical expression and return the result.\n",
        "\n",
        "  Parameters:\n",
        "  expression (str): Astring containging the mathematical expression to evaluate.\n",
        "\n",
        "  Returns:\n",
        "  float: The result of the evaluated expression.\n",
        "\n",
        "  Examples:\n",
        "  >>> evaluate_expression(\"2 + 3 * 4\")\n",
        "  14.0\n",
        "  >>> evaluate_expression(\"(10/2)+8\")\n",
        "  13.0\n",
        "\n",
        "  Note:\n",
        "    - This function uses Python's 'eval()' to calculate the result.\n",
        "    - Ensure the input is sanitized to avoid malicious code execution.\n",
        "    \"\"\"\n",
        "  try:\n",
        "\n",
        "    # Evaluate the expression safely\n",
        "\n",
        "      result = eval(expression, {\"__builtins__\": {}})\n",
        "      return float(result)\n",
        "  except Exception as e:\n",
        "      print(f\"Error evaluating expression: {e}\")\n",
        "      return None\n",
        "\n",
        "\n",
        "\n",
        "\n",
        "\n",
        "  # tool for latest news\n",
        "\n",
        "import requests\n",
        "@tool\n",
        "def get_latest_news(topic: str) -> str:\n",
        "  \"\"\"\n",
        "  Fetches the latest news for a given topic.\n",
        "  Args:\n",
        "    topic (str) : The topic to search for news articles.\n",
        "\n",
        "  Returns:\n",
        "    str: A fromatted string conaining the tool name, the latest news titles, and their respective links.\n",
        "\n",
        "  Example:\n",
        "    get_latest_news(\"Technology\")\n",
        "  \"\"\"\n",
        "  api_key = \"9047c55c560840129435328dcf3ad307\"\n",
        "  url = f\"https://newsapi.org/v2/everything?q={topic}&apiKey={api_key}\"\n",
        "\n",
        "  try:\n",
        "    response = requests.get(url)\n",
        "    data = response.json()\n",
        "\n",
        "    if response.status_code == 200 and data.get('articles'):\n",
        "      articles = data['articles']\n",
        "      result = f\"Tool used: get_latest_news\\n get_latest_news tool is used \\ nHere are the latest news articles\"\n",
        "\n",
        "\n",
        "      for article in articles[:10]:\n",
        "        title = article['title']\n",
        "        url = article['url']\n",
        "        result += f\"-{title}: {url}\\n\"\n",
        "\n",
        "\n",
        "      return result\n",
        "    else:\n",
        "      return f\"Error: Could not fetch news for {topic}. Reason: {data.get('message','Unknown error')}\"\n",
        "  except Exception as e:\n",
        "    return f\"Error: Unable to fetch news. Details : {str(e)}\"\n",
        "\n",
        "\n",
        "\n",
        "    # stock price\n",
        "@tool\n",
        "def get_stock_price(symbol: str) -> str:\n",
        "  \"\"\"Fetches the current stock price of a company based on its stock symbol using the Polygon API\n",
        "  Args:\n",
        "    symbol (str): The stock symbol of the company (e.g., 'AAPL' for Apple, 'GOOGLE' for Google).\n",
        "  Returns:\n",
        "    str: A message containing the current stock price of the company.\n",
        "\n",
        "  Raises:\n",
        "    HTTPError: If the HTTP request to the stock API fails (e.g., 404 or 500 status).\n",
        "    RequestException: If there is an issue with the request itself (e.g., connection error).\n",
        "    Exception: For any other unexpected errors during the execution of the function.\n",
        "    \"\"\"\n",
        "  api_key = \"rF2Rse0EEBnsfhyhL1HhGg5_61fJGh89\"\n",
        "  url = f\"https://api.polygon.io/v2/aggs/ticker/{symbol}/prev\"\n",
        "\n",
        "  try:\n",
        "    response = requests.get(url,params={\"apiKey\":api_key})\n",
        "    response.raise_for_status()\n",
        "    data = response.json()\n",
        "\n",
        "    price=data.get('results',[{}])[0].get('c')\n",
        "\n",
        "    if price:\n",
        "      return f\"Tool used:get_stock_price\\n get_stock_price tool is used to find The current price of {symbol}\"\n",
        "    else:\n",
        "      return f\"Error: Could not retrieve stock data for {symbol}.\\nTool used: get_stock_price\"\n",
        "  except requests.exceptions.HTTPError as http_err:\n",
        "    return f\"HTTP error occurred: {http_err}\\nTool used: get_stock_price\"\n",
        "  except requests.exceptions.RequestException as req_err:\n",
        "    return f\"Request eror occured: {req_err}\\nTool used: get_stock_price\"\n",
        "  except Exception as err:\n",
        "    return f\"An unexpected erorr occurred: {err}\\nTool used: get_stock_price\"\n",
        "\n",
        "\n",
        "\n",
        "\n"
      ],
      "metadata": {
        "id": "xENhZc0PtXfn"
      },
      "execution_count": null,
      "outputs": []
    },
    {
      "cell_type": "code",
      "source": [
        "# tools = [multiply]\n",
        "tools = [calculator,get_latest_news, get_stock_price]"
      ],
      "metadata": {
        "id": "k_RjhxiSvIaO"
      },
      "execution_count": null,
      "outputs": []
    },
    {
      "cell_type": "code",
      "source": [
        "from langchain_google_genai import ChatGoogleGenerativeAI\n",
        "\n",
        "llm = ChatGoogleGenerativeAI(model = 'gemini-2.0-flash-exp' , api_key=GOOGLE_API_KEY)"
      ],
      "metadata": {
        "id": "2yxM3H4gvNGx"
      },
      "execution_count": null,
      "outputs": []
    },
    {
      "cell_type": "code",
      "source": [
        "from langchain.agents import initialize_agent , AgentType\n"
      ],
      "metadata": {
        "id": "GFJpiAFGvxJi"
      },
      "execution_count": null,
      "outputs": []
    },
    {
      "cell_type": "code",
      "source": [
        "agent = initialize_agent(tools,llm , agent=AgentType.STRUCTURED_CHAT_ZERO_SHOT_REACT_DESCRIPTION)"
      ],
      "metadata": {
        "id": "oXgA2OCTwvIo"
      },
      "execution_count": null,
      "outputs": []
    },
    {
      "cell_type": "code",
      "source": [
        "response = agent.invoke({\"input\":\"what is 2 multiply by 3\"})\n",
        "response[\"output\"]"
      ],
      "metadata": {
        "colab": {
          "base_uri": "https://localhost:8080/",
          "height": 36
        },
        "id": "xAmS-AbXxd7d",
        "outputId": "7e9b149a-fba3-4ce8-f1d1-401c2313f1c6"
      },
      "execution_count": null,
      "outputs": [
        {
          "output_type": "execute_result",
          "data": {
            "text/plain": [
              "'2 multiplied by 3 is 6.'"
            ],
            "application/vnd.google.colaboratory.intrinsic+json": {
              "type": "string"
            }
          },
          "metadata": {},
          "execution_count": 38
        }
      ]
    },
    {
      "cell_type": "code",
      "source": [
        "response = agent.invoke({\"input\":\"what is price of tesla\"})\n",
        "response[\"output\"]"
      ],
      "metadata": {
        "id": "hVD3L7Djy_YH",
        "colab": {
          "base_uri": "https://localhost:8080/",
          "height": 36
        },
        "outputId": "332861a6-891f-4751-fa25-a164b1e740e7"
      },
      "execution_count": null,
      "outputs": [
        {
          "output_type": "execute_result",
          "data": {
            "text/plain": [
              "'I have already retrieved the stock price of Tesla.'"
            ],
            "application/vnd.google.colaboratory.intrinsic+json": {
              "type": "string"
            }
          },
          "metadata": {},
          "execution_count": 39
        }
      ]
    }
  ]
}